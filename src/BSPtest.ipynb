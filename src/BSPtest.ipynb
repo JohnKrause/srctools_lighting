{
 "cells": [
  {
   "cell_type": "code",
   "execution_count": 1,
   "id": "564ea41d",
   "metadata": {},
   "outputs": [],
   "source": [
    "from srctools.bsp import BSP"
   ]
  },
  {
   "cell_type": "code",
   "execution_count": 2,
   "id": "bf4103eb",
   "metadata": {},
   "outputs": [],
   "source": [
    "testbsp=BSP(\"bsptest.bsp\")"
   ]
  },
  {
   "cell_type": "code",
   "execution_count": 3,
   "id": "c42a2c95",
   "metadata": {},
   "outputs": [
    {
     "data": {
      "text/plain": [
       "<zipfile.ZipFile file=<_io.BytesIO object at 0x7ff594739450> mode='a'>"
      ]
     },
     "execution_count": 3,
     "metadata": {},
     "output_type": "execute_result"
    }
   ],
   "source": [
    "testbsp.pakfile"
   ]
  },
  {
   "cell_type": "code",
   "execution_count": 10,
   "id": "997f7bb9",
   "metadata": {},
   "outputs": [
    {
     "data": {
      "text/plain": [
       "0"
      ]
     },
     "execution_count": 10,
     "metadata": {},
     "output_type": "execute_result"
    }
   ],
   "source": [
    "len(testbsp.props)"
   ]
  },
  {
   "cell_type": "code",
   "execution_count": 7,
   "id": "303a223d",
   "metadata": {},
   "outputs": [
    {
     "name": "stdout",
     "output_type": "stream",
     "text": [
      "\n",
      "\n"
     ]
    }
   ],
   "source": []
  },
  {
   "cell_type": "code",
   "execution_count": null,
   "id": "cdfd4604",
   "metadata": {},
   "outputs": [],
   "source": []
  }
 ],
 "metadata": {
  "kernelspec": {
   "display_name": "Python 3 (ipykernel)",
   "language": "python",
   "name": "python3"
  },
  "language_info": {
   "codemirror_mode": {
    "name": "ipython",
    "version": 3
   },
   "file_extension": ".py",
   "mimetype": "text/x-python",
   "name": "python",
   "nbconvert_exporter": "python",
   "pygments_lexer": "ipython3",
   "version": "3.9.7"
  }
 },
 "nbformat": 4,
 "nbformat_minor": 5
}
